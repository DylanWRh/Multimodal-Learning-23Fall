{
  "cells": [
    {
      "cell_type": "markdown",
      "metadata": {
        "id": "HAvpFCryu8qv"
      },
      "source": [
        "# Assignment 1\n",
        "\n",
        "This section will make you familier with\n",
        "1. some pytorch basics\n",
        "2. how to train a simple model with linear layers and non-linearity activation layer\n",
        "3. the effect of number of layers and non-linearity activation"
      ]
    },
    {
      "cell_type": "code",
      "execution_count": 1,
      "metadata": {
        "id": "EyJt4yZIQAem"
      },
      "outputs": [],
      "source": [
        "# Import dependencies\n",
        "import random\n",
        "import numpy as np\n",
        "import torch\n",
        "import torch.nn as nn\n",
        "\n",
        "from matplotlib import pyplot as plt\n",
        "from matplotlib.pyplot import plot, title, axis"
      ]
    },
    {
      "cell_type": "code",
      "execution_count": 2,
      "metadata": {
        "id": "VTHDQFHFQAeq"
      },
      "outputs": [],
      "source": [
        "# Set up your device\n",
        "cuda = torch.cuda.is_available()\n",
        "device = torch.device(\"cuda:0\" if cuda else \"cpu\")"
      ]
    },
    {
      "cell_type": "code",
      "execution_count": 3,
      "metadata": {
        "id": "exqe27QXQAet"
      },
      "outputs": [],
      "source": [
        "# Set up random seed to 1008. Do not change the random seed.\n",
        "# Yes, these are all necessary when you run experiments!\n",
        "seed = 1008\n",
        "random.seed(seed)\n",
        "np.random.seed(seed)\n",
        "torch.manual_seed(seed)\n",
        "if cuda:\n",
        "    torch.cuda.manual_seed(seed)\n",
        "    torch.cuda.manual_seed_all(seed)\n",
        "    torch.backends.cudnn.benchmark = False\n",
        "    torch.backends.cudnn.deterministic = True"
      ]
    },
    {
      "cell_type": "markdown",
      "metadata": {
        "id": "7krs-4XOQAev"
      },
      "source": [
        "# 1. Tensor [2 pt]\n",
        "\n",
        "1.1. Write a function `build_tensor_1()` that returns the 2D tensor with integers below. **Do not use any loops**. [1 pt]\n",
        "\n",
        "```\n",
        "0, 0, 0, 0, 0, 0, 0, 0, 0, 0\n",
        "0, 1, 1, 1, 0, 0, 2, 2, 2, 0\n",
        "0, 1, 1, 1, 0, 0, 2, 2, 2, 0\n",
        "0, 1, 1, 1, 0, 0, 2, 2, 2, 0\n",
        "0, 0, 0, 0, 0, 0, 0, 0, 0, 0\n",
        "0, 0, 0, 0, 0, 0, 0, 0, 0, 0\n",
        "0, 3, 3, 3, 0, 0, 4, 4, 4, 0\n",
        "0, 3, 3, 3, 0, 0, 4, 4, 4, 0\n",
        "0, 3, 3, 3, 0, 0, 4, 4, 4, 0\n",
        "0, 0, 0, 0, 0, 0, 0, 0, 0, 0\n",
        "```\n",
        "\n",
        "Hint: Use the slicing operator."
      ]
    },
    {
      "cell_type": "code",
      "execution_count": 4,
      "metadata": {
        "id": "JsFk9OUoQAew"
      },
      "outputs": [],
      "source": [
        "def build_tensor_1():\n",
        "    # TODO\n",
        "    tensor_1 = torch.zeros((10, 10))\n",
        "    tensor_1[1:4, 1:4] = 1\n",
        "    tensor_1[1:4, 6:9] = 2\n",
        "    tensor_1[6:9, 1:4] = 3\n",
        "    tensor_1[6:9, 6:9] = 4\n",
        "    return tensor_1"
      ]
    },
    {
      "cell_type": "code",
      "execution_count": 5,
      "metadata": {
        "id": "7t9V7ZwxewwQ"
      },
      "outputs": [],
      "source": [
        "# You can use this assertion to make sure the answer is right.\n",
        "# Before diving into the next question, you should pass the test.\n",
        "assert (build_tensor_1() ==\n",
        "        torch.tensor([[0, 0, 0, 0, 0, 0, 0, 0, 0, 0],\n",
        "        [0, 1, 1, 1, 0, 0, 2, 2, 2, 0],\n",
        "        [0, 1, 1, 1, 0, 0, 2, 2, 2, 0],\n",
        "        [0, 1, 1, 1, 0, 0, 2, 2, 2, 0],\n",
        "        [0, 0, 0, 0, 0, 0, 0, 0, 0, 0],\n",
        "        [0, 0, 0, 0, 0, 0, 0, 0, 0, 0],\n",
        "        [0, 3, 3, 3, 0, 0, 4, 4, 4, 0],\n",
        "        [0, 3, 3, 3, 0, 0, 4, 4, 4, 0],\n",
        "        [0, 3, 3, 3, 0, 0, 4, 4, 4, 0],\n",
        "        [0, 0, 0, 0, 0, 0, 0, 0, 0, 0]])).all()"
      ]
    },
    {
      "cell_type": "markdown",
      "metadata": {
        "id": "XLkzIiHfd7fM"
      },
      "source": [
        "1.2. Use the [broadcasting semantics](https://pytorch.org/docs/stable/notes/broadcasting.html) to write a function `build_tensor_2()` that returns the 2D tensor with integers below. **Do not use any loops**. [1 pts]\n",
        "\n",
        "```\n",
        "0,  1,  2,  3,  4,  5,  6,  7,  8,  9\n",
        "1,  2,  3,  4,  5,  6,  7,  8,  9, 10\n",
        "2,  3,  4,  5,  6,  7,  8,  9, 10, 11\n",
        "3,  4,  5,  6,  7,  8,  9, 10, 11, 12\n",
        "4,  5,  6,  7,  8,  9, 10, 11, 12, 13\n",
        "5,  6,  7,  8,  9, 10, 11, 12, 13, 14\n",
        "6,  7,  8,  9, 10, 11, 12, 13, 14, 15\n",
        "7,  8,  9, 10, 11, 12, 13, 14, 15, 16\n",
        "8,  9, 10, 11, 12, 13, 14, 15, 16, 17\n",
        "9, 10, 11, 12, 13, 14, 15, 16, 17, 18\n",
        "```"
      ]
    },
    {
      "cell_type": "code",
      "execution_count": 6,
      "metadata": {
        "id": "49gfuOavfrU7"
      },
      "outputs": [],
      "source": [
        "def build_tensor_2():\n",
        "    # TODO\n",
        "    tensor_2 = torch.arange(10).unsqueeze(-1)\n",
        "    return tensor_2 + tensor_2.T"
      ]
    },
    {
      "cell_type": "code",
      "execution_count": 7,
      "metadata": {
        "id": "RGTPlbVEf8ks"
      },
      "outputs": [],
      "source": [
        "# You can use this assertion to make sure the answer is right.\n",
        "# Before diving into the next question, you should pass the test.\n",
        "assert (build_tensor_2() ==\n",
        "        torch.tensor([[ 0,  1,  2,  3,  4,  5,  6,  7,  8,  9],\n",
        "        [ 1,  2,  3,  4,  5,  6,  7,  8,  9, 10],\n",
        "        [ 2,  3,  4,  5,  6,  7,  8,  9, 10, 11],\n",
        "        [ 3,  4,  5,  6,  7,  8,  9, 10, 11, 12],\n",
        "        [ 4,  5,  6,  7,  8,  9, 10, 11, 12, 13],\n",
        "        [ 5,  6,  7,  8,  9, 10, 11, 12, 13, 14],\n",
        "        [ 6,  7,  8,  9, 10, 11, 12, 13, 14, 15],\n",
        "        [ 7,  8,  9, 10, 11, 12, 13, 14, 15, 16],\n",
        "        [ 8,  9, 10, 11, 12, 13, 14, 15, 16, 17],\n",
        "        [ 9, 10, 11, 12, 13, 14, 15, 16, 17, 18]])).all()"
      ]
    },
    {
      "cell_type": "markdown",
      "metadata": {
        "id": "yn_FXad8QAe_"
      },
      "source": [
        "# 2. Non-linear regression [8 pts]\n",
        "\n",
        "In this section, we will explore and get comfortable initializing modules like nn.Linear and using non-linearities in PyTorch.\n",
        "\n",
        "We will separately train a single-layer neural network without nonlinear activation, a multi-layer neural network without nonlinear activation, a single-layer neural network with nonlinear activation, and a multi-layer neural network with nonlinear activation to fit the same nonlinear target function $f(x)$:\n",
        "\n",
        "$$\n",
        "f(x) = x^3 - x^2 + 25\\sin(2x)\n",
        "$$."
      ]
    },
    {
      "cell_type": "markdown",
      "metadata": {
        "id": "Gtm-tqJnmikg"
      },
      "source": [
        "## 2.1 Generate training data [1 pt]\n",
        "The training data consists of 100 pairs of\n",
        " values. Each pair is generated by first sampling an\n",
        " value from a uniform distribution. For each sampled\n",
        ", we compute the value of the target function\n",
        " and add Gaussian noise to it."
      ]
    },
    {
      "cell_type": "code",
      "execution_count": 8,
      "metadata": {
        "colab": {
          "base_uri": "https://localhost:8080/",
          "height": 430
        },
        "id": "P-ucTZbHmhKg",
        "outputId": "6fede0fa-16d5-4c28-f587-e67a362e4508"
      },
      "outputs": [
        {
          "data": {
            "image/png": "[encoded data removed]",
            "text/plain": [
              "<Figure size 640x480 with 1 Axes>"
            ]
          },
          "metadata": {},
          "output_type": "display_data"
        }
      ],
      "source": [
        "nObs = 100 # number of observations\n",
        "\n",
        "# get noise sampled from standard normal distribution\n",
        "yNoise = torch.randn(100)\n",
        "\n",
        "# get observations\n",
        "xObs = 10 * torch.rand([nObs]) - 5    # uniform from [-5,5]\n",
        "yObs = yNoise * 10 + xObs ** 3 - xObs ** 2 + 25 * torch.sin(2 * xObs)\n",
        "\n",
        "# plot the data\n",
        "plt.scatter(xObs, yObs)\n",
        "plt.show()"
      ]
    },
    {
      "cell_type": "markdown",
      "metadata": {
        "id": "9e1sQHPkocDL"
      },
      "source": [
        "## 2.2 Define the neural networks [3 pts]\n",
        "\n",
        "PyTorch defines a special-purpose class called `nn.Module` from which pre-defined neural networks or custom-made networks inherit the structure and basic functionality. Below, we define our feed-forward neural network as a class extending `nn.Module`. Minimally, we have to define two functions for this to work:\n",
        "\n",
        "- the **initialization** function `_init__` which defines which variables (mostly, but not exclusively: parameters) our model has (using `nn.Linear` instantiates a linear layer with all the trainable parameters (weights and biases) implicitly);\n",
        "\n",
        "- the **forward** pass which takes the model's input and computes the corresponding prediction given the current parameter values.\n",
        "\n",
        "Here is a neural network with three hidden layers of size 10 and ReLU non-linearity:"
      ]
    },
    {
      "cell_type": "code",
      "execution_count": 9,
      "metadata": {
        "id": "D-Uy8vYCpeWW"
      },
      "outputs": [],
      "source": [
        "# Define a Linear Classifier with three hidden layers of size 10 and ReLU non-linearity\n",
        "class Linear_3H_explicit(nn.Module):\n",
        "    def __init__(self):\n",
        "        super().__init__()\n",
        "        self.nInput = 1\n",
        "        self.nHidden = 10\n",
        "        self.nOutput = 1\n",
        "        self.linear1 = nn.Linear(self.nInput, self.nHidden)\n",
        "        self.linear2 = nn.Linear(self.nHidden, self.nHidden)\n",
        "        self.linear3 = nn.Linear(self.nHidden, self.nHidden)\n",
        "        self.ReLU    = nn.ReLU()\n",
        "        self.classifier = nn.Linear(self.nHidden, self.nOutput)\n",
        "\n",
        "    def forward(self, x):\n",
        "        h1 = self.ReLU(self.linear1(x))\n",
        "        h2 = self.ReLU(self.linear2(h1))\n",
        "        h3 = self.ReLU(self.linear3(h2))\n",
        "        return self.classifier(h3)"
      ]
    },
    {
      "cell_type": "markdown",
      "metadata": {
        "id": "7QoQlp1Psm2c"
      },
      "source": [
        "Here is another, more condensed definition of the same model, which uses the `nn.Sequantial` function to neatly chain components, thus defining the model parameters and the forward pass in one swoop."
      ]
    },
    {
      "cell_type": "code",
      "execution_count": 10,
      "metadata": {
        "id": "Jz_7XLfps0QP"
      },
      "outputs": [],
      "source": [
        "# Define a Linear Classifier with three hidden layers of size 10 and ReLU non-linearity\n",
        "class Linear_3H_condensed(nn.Module):\n",
        "    def __init__(self):\n",
        "        super().__init__()\n",
        "        self.nInput = 1\n",
        "        self.nHidden = 10\n",
        "        self.nOutput = 1\n",
        "        self.classifier = nn.Sequential(\n",
        "            nn.Linear(self.nInput, self.nHidden),\n",
        "            nn.ReLU(),\n",
        "            nn.Linear(self.nHidden, self.nHidden),\n",
        "            nn.ReLU(),\n",
        "            nn.Linear(self.nHidden, self.nHidden),\n",
        "            nn.ReLU(),\n",
        "            nn.Linear(self.nHidden, self.nOutput)\n",
        "        )\n",
        "\n",
        "    def forward(self, x):\n",
        "        return self.classifier(x)"
      ]
    },
    {
      "cell_type": "markdown",
      "metadata": {
        "id": "Y4zbA9fOt39M"
      },
      "source": [
        "Next, try defining different neural networks according to the requirements in the way you prefer."
      ]
    },
    {
      "cell_type": "code",
      "execution_count": 11,
      "metadata": {
        "id": "jX0nd2RL4cMz"
      },
      "outputs": [],
      "source": [
        "# Define a Linear Classifier with a single linear layer and no non-linearity (no activation function)\n",
        "# (no hidden layer)\n",
        "class Linear_0H_wo_act(nn.Module):\n",
        "    def __init__(self):\n",
        "        super().__init__()\n",
        "\n",
        "        # TODO\n",
        "        self.nInput = 1\n",
        "        self.nOutput = 1\n",
        "        self.classifier = nn.Linear(self.nInput, self.nOutput)\n",
        "\n",
        "    def forward(self, x):\n",
        "        # TODO\n",
        "        return self.classifier(x)"
      ]
    },
    {
      "cell_type": "code",
      "execution_count": 12,
      "metadata": {
        "id": "jiZD5-lJ4eef"
      },
      "outputs": [],
      "source": [
        "# Define a Linear Classifier with three hidden layers of size 10 and no non-linearity (no activation function)\n",
        "class Linear_3H_wo_act(nn.Module):\n",
        "    def __init__(self):\n",
        "        super().__init__()\n",
        "\n",
        "        # TODO\n",
        "        self.nInput = 1\n",
        "        self.nHidden = 10\n",
        "        self.nOutput = 1\n",
        "        self.classifier = nn.Sequential(\n",
        "            nn.Linear(self.nInput, self.nHidden),\n",
        "            nn.Linear(self.nHidden, self.nHidden),\n",
        "            nn.Linear(self.nHidden, self.nHidden),\n",
        "            nn.Linear(self.nHidden, self.nOutput)\n",
        "        )\n",
        "\n",
        "    def forward(self, x):\n",
        "        # TODO\n",
        "        return self.classifier(x)"
      ]
    },
    {
      "cell_type": "code",
      "execution_count": 13,
      "metadata": {
        "id": "8HffIoBQ4f2h"
      },
      "outputs": [],
      "source": [
        "# Define a Linear Classifier with a single hidden layers of size 10 and ReLU non-linearity\n",
        "class Linear_1H(nn.Module):\n",
        "    def __init__(self):\n",
        "        super().__init__()\n",
        "\n",
        "        # TODO\n",
        "        self.nInput = 1\n",
        "        self.nHidden = 10\n",
        "        self.nOutput = 1\n",
        "        self.classifier = nn.Sequential(\n",
        "            nn.Linear(self.nInput, self.nHidden),\n",
        "            nn.ReLU(),\n",
        "            nn.Linear(self.nHidden, self.nOutput)\n",
        "        )\n",
        "\n",
        "    def forward(self, x):\n",
        "        # TODO\n",
        "        return self.classifier(x)"
      ]
    },
    {
      "cell_type": "markdown",
      "metadata": {
        "id": "xiFbHh0swawr"
      },
      "source": [
        "## 2.3 Train the model (3 pts)\n",
        "\n",
        "We can now train the model with the training data. You can look at some [example pytorch tutorials](https://pytorch.org/tutorials/beginner/introyt/trainingyt.html) to learn how to:\n",
        "- initialize optimizers\n",
        "- zero gradient\n",
        "- backprop the loss\n",
        "- step the gradient\n",
        "\n",
        "Note: This is full batch. We compute forward on whole x, y.\n",
        "No need for dataloaders nor loop over batches.\n",
        "Just pass all of x to model's forward pass."
      ]
    },
    {
      "cell_type": "code",
      "execution_count": 14,
      "metadata": {
        "id": "xof0_Ghf4gth"
      },
      "outputs": [],
      "source": [
        "def train(model, x, y):\n",
        "    # Define the MSE loss function and Adam optimizer with learning rate 0.001\n",
        "    loss_function = torch.nn.MSELoss()\n",
        "    optimizer = torch.optim.Adam(model.parameters(), lr=0.001)\n",
        "\n",
        "    nTrainSteps = 20000\n",
        "\n",
        "    # Send model and data to device\n",
        "    model = model.to(device)\n",
        "    x = x.to(device)\n",
        "    y = y.to(device)\n",
        "\n",
        "    # Run the training loop\n",
        "    for epoch in range(0, nTrainSteps):\n",
        "        # Set current loss value\n",
        "        current_loss = 0.0\n",
        "\n",
        "        # TODO: Zero the gradients\n",
        "        optimizer.zero_grad()\n",
        "\n",
        "\n",
        "        # Perform forward pass (make sure to supply the input in the right way)\n",
        "        outputs = model(x.unsqueeze(-1))\n",
        "\n",
        "        # Compute loss\n",
        "        loss = loss_function(outputs, y.unsqueeze(-1))\n",
        "\n",
        "        # TODO: Perform backward pass\n",
        "        loss.backward()\n",
        "\n",
        "        # TODO: Perform optimization\n",
        "        optimizer.step()\n",
        "\n",
        "        # Print statistics\n",
        "        current_loss += loss.item()\n",
        "\n",
        "        if (epoch + 1) % 2500 == 0:\n",
        "            print('Loss after epoch %5d: %.3f' %\n",
        "                    (epoch + 1, current_loss))\n",
        "            current_loss = 0.0\n",
        "\n",
        "    # Process is complete.\n",
        "    print('Training process has finished.')\n",
        "\n",
        "    return outputs.detach().cpu()"
      ]
    },
    {
      "cell_type": "markdown",
      "metadata": {
        "id": "VlSQK1sb7V8P"
      },
      "source": [
        "The code below is to visualize the prediction. You may get different curves by running multiple times because of random initialization."
      ]
    },
    {
      "cell_type": "code",
      "execution_count": 15,
      "metadata": {
        "colab": {
          "base_uri": "https://localhost:8080/",
          "height": 592
        },
        "id": "FL72g7gR4i1r",
        "outputId": "5b62d57d-31ec-4df9-edde-cd9198d78f52"
      },
      "outputs": [
        {
          "name": "stdout",
          "output_type": "stream",
          "text": [
            "Loss after epoch  2500: 2549.401\n",
            "Loss after epoch  5000: 2020.053\n",
            "Loss after epoch  7500: 1602.138\n",
            "Loss after epoch 10000: 1289.081\n",
            "Loss after epoch 12500: 1074.429\n",
            "Loss after epoch 15000: 946.252\n",
            "Loss after epoch 17500: 889.014\n",
            "Loss after epoch 20000: 877.991\n",
            "Training process has finished.\n"
          ]
        },
        {
          "data": {
            "image/png": "[encoded data removed]",
            "text/plain": [
              "<Figure size 640x480 with 1 Axes>"
            ]
          },
          "metadata": {},
          "output_type": "display_data"
        }
      ],
      "source": [
        "# A single linear layer and no non-linearity\n",
        "model = Linear_0H_wo_act()\n",
        "y_pred = train(model, x=xObs, y=yObs)\n",
        "\n",
        "# Plot predictions vs actual data\n",
        "plt.scatter(xObs, yObs)\n",
        "plt.scatter(xObs, y_pred)\n",
        "plt.show()"
      ]
    },
    {
      "cell_type": "code",
      "execution_count": 16,
      "metadata": {
        "colab": {
          "base_uri": "https://localhost:8080/",
          "height": 592
        },
        "id": "Bf9zj-Dn4kTl",
        "outputId": "4ac40406-beaa-4326-f4b9-ed1820482739"
      },
      "outputs": [
        {
          "name": "stdout",
          "output_type": "stream",
          "text": [
            "Loss after epoch  2500: 877.835\n",
            "Loss after epoch  5000: 877.835\n",
            "Loss after epoch  7500: 877.835\n",
            "Loss after epoch 10000: 877.835\n",
            "Loss after epoch 12500: 877.835\n",
            "Loss after epoch 15000: 877.835\n",
            "Loss after epoch 17500: 877.835\n",
            "Loss after epoch 20000: 877.835\n",
            "Training process has finished.\n"
          ]
        },
        {
          "data": {
            "image/png": "[encoded data removed]",
            "text/plain": [
              "<Figure size 640x480 with 1 Axes>"
            ]
          },
          "metadata": {},
          "output_type": "display_data"
        }
      ],
      "source": [
        "# Three hidden layers and no non-linearity\n",
        "model = Linear_3H_wo_act()\n",
        "y_pred = train(model, x=xObs, y=yObs)\n",
        "\n",
        "# Plot predictions vs actual data\n",
        "plt.scatter(xObs, yObs)\n",
        "plt.scatter(xObs, y_pred)\n",
        "plt.show()"
      ]
    },
    {
      "cell_type": "code",
      "execution_count": 17,
      "metadata": {
        "colab": {
          "base_uri": "https://localhost:8080/",
          "height": 592
        },
        "id": "-HAezDH74ks1",
        "outputId": "756a7430-44e4-4e97-fc97-0f2b49d1669a"
      },
      "outputs": [
        {
          "name": "stdout",
          "output_type": "stream",
          "text": [
            "Loss after epoch  2500: 836.902\n",
            "Loss after epoch  5000: 650.539\n",
            "Loss after epoch  7500: 291.871\n",
            "Loss after epoch 10000: 240.812\n",
            "Loss after epoch 12500: 240.035\n",
            "Loss after epoch 15000: 240.035\n",
            "Loss after epoch 17500: 240.035\n",
            "Loss after epoch 20000: 240.035\n",
            "Training process has finished.\n"
          ]
        },
        {
          "data": {
            "image/png": "[encoded data removed]",
            "text/plain": [
              "<Figure size 640x480 with 1 Axes>"
            ]
          },
          "metadata": {},
          "output_type": "display_data"
        }
      ],
      "source": [
        "# A single hidden layers and ReLU non-linearity\n",
        "model = Linear_1H()\n",
        "y_pred = train(model, x=xObs, y=yObs)\n",
        "\n",
        "# Plot predictions vs actual data\n",
        "plt.scatter(xObs, yObs)\n",
        "plt.scatter(xObs, y_pred)\n",
        "plt.show()"
      ]
    },
    {
      "cell_type": "code",
      "execution_count": 18,
      "metadata": {
        "colab": {
          "base_uri": "https://localhost:8080/",
          "height": 592
        },
        "id": "X-iY8XaJ1vsL",
        "outputId": "0f502ee1-42c0-4a31-8f1d-478fb64adf9e"
      },
      "outputs": [
        {
          "name": "stdout",
          "output_type": "stream",
          "text": [
            "Loss after epoch  2500: 167.227\n",
            "Loss after epoch  5000: 70.926\n",
            "Loss after epoch  7500: 64.506\n",
            "Loss after epoch 10000: 62.496\n",
            "Loss after epoch 12500: 61.328\n",
            "Loss after epoch 15000: 60.523\n",
            "Loss after epoch 17500: 59.423\n",
            "Loss after epoch 20000: 56.945\n",
            "Training process has finished.\n"
          ]
        },
        {
          "data": {
            "image/png": "[encoded data removed]",
            "text/plain": [
              "<Figure size 640x480 with 1 Axes>"
            ]
          },
          "metadata": {},
          "output_type": "display_data"
        }
      ],
      "source": [
        "# Three hidden layers and ReLU non-linearity\n",
        "model = Linear_3H_condensed()\n",
        "y_pred = train(model, x=xObs, y=yObs)\n",
        "\n",
        "# Plot predictions vs actual data\n",
        "plt.scatter(xObs, yObs)\n",
        "plt.scatter(xObs, y_pred)\n",
        "plt.show()"
      ]
    },
    {
      "cell_type": "markdown",
      "metadata": {
        "id": "ot_XuRiv3Cfw"
      },
      "source": [
        "## 2.4 Discussions [1 pt]\n",
        "\n",
        "Based on the above experimental results, please discuss the effect of the nonlinear activation function and the number of hidden layers.\n",
        "\n",
        "- nonlinear activation function能加强模型的拟合能力\n",
        "    - 线性层不论叠加多少层，仍然等价于只有一个线性层\n",
        "    - 添加非线性层给了模型拟合更复杂函数的机会\n",
        "- 随着hidden layers增大，模型(w/o activation)的拟合能力几乎不变，特别是此处数据量很少、待拟合函数较简单的情况下，经过训练后都拟合到由最小二乘法计算出的直线上\n",
        "- 随着hidden layers增大，模型(w/ activation)的拟合能力增强\n",
        "    - 一方面，模型参数增加使得表达能力增加\n",
        "    - 另一方面，非线性函数的复合也会导致模型能够表征或逼近的函数的复杂程度增加"
      ]
    }
  ],
  "metadata": {
    "accelerator": "GPU",
    "colab": {
      "gpuType": "T4",
      "provenance": []
    },
    "kernelspec": {
      "display_name": "Python 3",
      "name": "python3"
    },
    "language_info": {
      "codemirror_mode": {
        "name": "ipython",
        "version": 3
      },
      "file_extension": ".py",
      "mimetype": "text/x-python",
      "name": "python",
      "nbconvert_exporter": "python",
      "pygments_lexer": "ipython3",
      "version": "3.11.3"
    }
  },
  "nbformat": 4,
  "nbformat_minor": 0
}
